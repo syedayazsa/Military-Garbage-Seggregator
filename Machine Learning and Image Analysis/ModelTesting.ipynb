{
 "cells": [
  {
   "cell_type": "markdown",
   "metadata": {},
   "source": [
    "# Defining Paths and Loading Models"
   ]
  },
  {
   "cell_type": "code",
   "execution_count": 3,
   "metadata": {},
   "outputs": [],
   "source": [
    "from keras.models import load_model\n",
    "\n",
    "model_path = 'modeln.h5'\n",
    "model_weights_path = 'modeln_weights.h5'\n",
    "test_path = './test'\n",
    "\n",
    "\n",
    "new_model = load_model(model_path)\n",
    "new_model.load_weights(model_weights_path)\n",
    "\n",
    "img_width, img_height = 64, 64"
   ]
  },
  {
   "cell_type": "markdown",
   "metadata": {},
   "source": [
    "# Prediction Function"
   ]
  },
  {
   "cell_type": "code",
   "execution_count": 4,
   "metadata": {},
   "outputs": [],
   "source": [
    "import numpy as np\n",
    "from keras.preprocessing.image import ImageDataGenerator, load_img, img_to_array\n",
    "def predict(p):\n",
    "    p = img_to_array(p)\n",
    "    p = np.expand_dims(p, axis=0)\n",
    "    array = new_model.predict(p)\n",
    "    result = array[0]\n",
    "    answer = np.argmax(result)\n",
    "    return answer"
   ]
  },
  {
   "cell_type": "markdown",
   "metadata": {},
   "source": [
    "# Function to Classify and Print the Image"
   ]
  },
  {
   "cell_type": "code",
   "execution_count": 5,
   "metadata": {},
   "outputs": [],
   "source": [
    "def classify(c):\n",
    "    if c==0:\n",
    "        c_img='Bandaid'\n",
    "    elif c==1:\n",
    "        c_img=\"Bottle\"\n",
    "    elif c==2:\n",
    "        c_img=\"Cloth\"\n",
    "    elif c==3:\n",
    "        c_img=\"Guns\"\n",
    "    elif c==4:\n",
    "        c_img=\"Shelling\"\n",
    "    elif c==5:\n",
    "        c_img=\"Syringe\"\n",
    "    print(c_img)"
   ]
  },
  {
   "cell_type": "markdown",
   "metadata": {},
   "source": [
    "# Testing for some images"
   ]
  },
  {
   "cell_type": "markdown",
   "metadata": {},
   "source": [
    "# Test No 1"
   ]
  },
  {
   "cell_type": "code",
   "execution_count": 16,
   "metadata": {},
   "outputs": [
    {
     "data": {
      "image/png": "[encoded data removed]",
      "text/plain": [
       "<PIL.Image.Image image mode=RGB size=256x256 at 0x7F1A35093F90>"
      ]
     },
     "execution_count": 16,
     "metadata": {},
     "output_type": "execute_result"
    }
   ],
   "source": [
    "x = load_img('./DATASET/test1/5.jpg', target_size=(img_width,img_height))\n",
    "load_img('./DATASET/test1/5.jpg', target_size=(256,256))"
   ]
  },
  {
   "cell_type": "code",
   "execution_count": 17,
   "metadata": {},
   "outputs": [
    {
     "name": "stdout",
     "output_type": "stream",
     "text": [
      "Bottle\n"
     ]
    }
   ],
   "source": [
    "ans = predict(x)\n",
    "classify(ans)"
   ]
  }
 ],
 "metadata": {
  "kernelspec": {
   "display_name": "Python 3",
   "language": "python",
   "name": "python3"
  },
  "language_info": {
   "codemirror_mode": {
    "name": "ipython",
    "version": 3
   },
   "file_extension": ".py",
   "mimetype": "text/x-python",
   "name": "python",
   "nbconvert_exporter": "python",
   "pygments_lexer": "ipython3",
   "version": "3.7.4"
  }
 },
 "nbformat": 4,
 "nbformat_minor": 2
}
